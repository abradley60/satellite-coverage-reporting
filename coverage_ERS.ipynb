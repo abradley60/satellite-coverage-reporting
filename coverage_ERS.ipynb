{
 "cells": [
  {
   "cell_type": "markdown",
   "metadata": {},
   "source": [
    "# ERS"
   ]
  },
  {
   "cell_type": "code",
   "execution_count": null,
   "metadata": {},
   "outputs": [],
   "source": [
    "import geopandas as gpd\n",
    "import pandas as pd\n",
    "import cartopy\n",
    "import matplotlib.pyplot as plt\n",
    "%matplotlib inline\n",
    "import json\n",
    "import shapely\n",
    "\n",
    "import shared_functions as sf\n",
    "\n",
    "# settings\n",
    "pd.set_option('display.max_columns', 500)\n",
    "pd.set_option('display.width', 1000)\n",
    "pd.set_option('display.max_colwidth', 150)"
   ]
  },
  {
   "cell_type": "markdown",
   "metadata": {},
   "source": [
    "## Functions"
   ]
  },
  {
   "cell_type": "code",
   "execution_count": null,
   "metadata": {},
   "outputs": [],
   "source": [
    "def annual_summary(df, size_col = 'size_GB'):\n",
    "    count_size = (\n",
    "        (df.groupby(['year']).agg(\n",
    "        count = ('id','count'),\n",
    "        size = (size_col, 'sum'),\n",
    "        size_MB = ('size_MB','sum'),\n",
    "        ))\n",
    "        .reset_index()\n",
    "        #.pivot(index='year', values=['count','size'])\n",
    "        .fillna(0)\n",
    "    )\n",
    "    count_size.loc[\"Total\"] = count_size.sum()\n",
    "    count_size['count'] = count_size['count'].astype(int)\n",
    "    count_size['mean_size_MB'] = count_size['size_MB']/count_size['count'] \n",
    "    count_size[size_col] = (count_size['size']).round(2)\n",
    "    count_size = count_size.drop(columns=['size'])\n",
    "    return count_size"
   ]
  },
  {
   "cell_type": "markdown",
   "metadata": {},
   "source": [
    "## ERS-1 Level 1"
   ]
  },
  {
   "cell_type": "code",
   "execution_count": null,
   "metadata": {},
   "outputs": [],
   "source": [
    "with open('metadata/ERS-1_LEVEL1_-50N_products.json') as f:\n",
    "    data = json.load(f)\n",
    "df_1 = pd.DataFrame.from_dict(data, orient='index')\n",
    "df_1 = sf.preprocess_cmr_df(df_1, crs=3031, lon_first=True, aoi_filter=True)\n",
    "print(df_1.shape)\n",
    "print(df_1['time_start'].min(),df_1['time_start'].max())\n",
    "df_1.head(2)"
   ]
  },
  {
   "cell_type": "code",
   "execution_count": null,
   "metadata": {},
   "outputs": [],
   "source": [
    "annual_summary(df_1)"
   ]
  },
  {
   "cell_type": "code",
   "execution_count": null,
   "metadata": {},
   "outputs": [],
   "source": [
    "title = 'ERS-1 complete level 1 spatial coverage (1994 - 1996)'\n",
    "sf.plot_results_footprint_map(df_1, title=title)"
   ]
  },
  {
   "cell_type": "markdown",
   "metadata": {},
   "source": [
    "## ERS-2 Level 1"
   ]
  },
  {
   "cell_type": "code",
   "execution_count": null,
   "metadata": {},
   "outputs": [],
   "source": [
    "with open('metadata/ERS-2_LEVEL1_-50N_products.json') as f:\n",
    "    data = json.load(f)\n",
    "df_2 = pd.DataFrame.from_dict(data, orient='index')\n",
    "df_2 = sf.preprocess_cmr_df(df_2, crs=3031, lon_first=True, aoi_filter=True)\n",
    "print(df_2.shape)\n",
    "print(df_2['time_start'].min(),df_2['time_start'].max())\n",
    "df_2.head(2)"
   ]
  },
  {
   "cell_type": "code",
   "execution_count": null,
   "metadata": {},
   "outputs": [],
   "source": [
    "title = 'ERS-2 complete level 1 spatial coverage (1995 - 2010)'\n",
    "sf.plot_results_footprint_map(df_2, title=title)"
   ]
  },
  {
   "cell_type": "code",
   "execution_count": null,
   "metadata": {},
   "outputs": [],
   "source": [
    "annual_summary(df_2)"
   ]
  },
  {
   "cell_type": "markdown",
   "metadata": {},
   "source": [
    "## Both"
   ]
  },
  {
   "cell_type": "code",
   "execution_count": null,
   "metadata": {},
   "outputs": [],
   "source": [
    "df = pd.concat([df_1,df_2])"
   ]
  },
  {
   "cell_type": "code",
   "execution_count": null,
   "metadata": {},
   "outputs": [],
   "source": [
    "annual_summary(df)"
   ]
  },
  {
   "cell_type": "code",
   "execution_count": null,
   "metadata": {},
   "outputs": [],
   "source": [
    "df.to_crs(4326).time_start.max()"
   ]
  },
  {
   "cell_type": "code",
   "execution_count": null,
   "metadata": {},
   "outputs": [],
   "source": [
    "sf.plot_timeseries_products(df, \n",
    "\ttitle=f'ERS-1 and ERS-2 (Level 1A) - Weekly Products' ,\n",
    "\tstack_col='dataset_id', \n",
    "\tdate_col='time_start',\n",
    "\tcount_freq='7D', \n",
    "    plot_freq='2M')"
   ]
  },
  {
   "cell_type": "code",
   "execution_count": null,
   "metadata": {},
   "outputs": [],
   "source": [
    "sf.plot_multiple_frequency(\n",
    "    df,\n",
    "    title = f\"ERS 1/2 Revisit Frequency by Year\",\n",
    "    group='year', \n",
    "    sort_group='year',\n",
    "    shape=(1500,1500),\n",
    "    cbar_label='Revisit Count',\n",
    "    n_cols=6,\n",
    ")"
   ]
  },
  {
   "cell_type": "code",
   "execution_count": null,
   "metadata": {},
   "outputs": [],
   "source": []
  }
 ],
 "metadata": {
  "kernelspec": {
   "display_name": "landsat",
   "language": "python",
   "name": "python3"
  },
  "language_info": {
   "codemirror_mode": {
    "name": "ipython",
    "version": 3
   },
   "file_extension": ".py",
   "mimetype": "text/x-python",
   "name": "python",
   "nbconvert_exporter": "python",
   "pygments_lexer": "ipython3",
   "version": "3.9.16"
  },
  "orig_nbformat": 4
 },
 "nbformat": 4,
 "nbformat_minor": 2
}
