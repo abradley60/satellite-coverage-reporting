{
 "cells": [
  {
   "cell_type": "markdown",
   "metadata": {},
   "source": [
    "# RADARSAT"
   ]
  },
  {
   "cell_type": "code",
   "execution_count": null,
   "metadata": {},
   "outputs": [],
   "source": [
    "import geopandas as gpd\n",
    "import pandas as pd\n",
    "import cartopy\n",
    "import matplotlib.pyplot as plt\n",
    "%matplotlib inline\n",
    "import json\n",
    "import shapely\n",
    "\n",
    "import shared_functions as sf\n",
    "\n",
    "# settings\n",
    "pd.set_option('display.max_columns', 500)\n",
    "pd.set_option('display.width', 1000)\n",
    "pd.set_option('display.max_colwidth', 150)"
   ]
  },
  {
   "cell_type": "markdown",
   "metadata": {},
   "source": [
    "## Functions"
   ]
  },
  {
   "cell_type": "code",
   "execution_count": null,
   "metadata": {},
   "outputs": [],
   "source": [
    "def annual_summary(df, size_col = 'size_GB'):\n",
    "    count_size = (\n",
    "        (df.groupby(['year']).agg(\n",
    "        count = ('id','count'),\n",
    "        size = (size_col, 'sum'),\n",
    "        size_MB = ('size_MB','sum'),\n",
    "        ))\n",
    "        .reset_index()\n",
    "        #.pivot(index='year', values=['count','size'])\n",
    "        .fillna(0)\n",
    "    )\n",
    "    count_size.loc[\"Total\"] = count_size.sum()\n",
    "    count_size['count'] = count_size['count'].astype(int)\n",
    "    count_size['mean_size_MB'] = count_size['size_MB']/count_size['count'] \n",
    "    count_size[size_col] = (count_size['size']).round(2)\n",
    "    count_size = count_size.drop(columns=['size'])\n",
    "    return count_size"
   ]
  },
  {
   "cell_type": "markdown",
   "metadata": {},
   "source": [
    "## RADARSAT-1 Level 1"
   ]
  },
  {
   "cell_type": "code",
   "execution_count": null,
   "metadata": {},
   "outputs": [],
   "source": [
    "with open('metadata/RADARSAT-1_LEVEL1_-50N_products.json') as f:\n",
    "    data = json.load(f)\n",
    "df = pd.DataFrame.from_dict(data, orient='index')\n",
    "df = sf.preprocess_cmr_df(df, crs=3031, lon_first=True, aoi_filter=True)\n",
    "df.head(2)"
   ]
  },
  {
   "cell_type": "code",
   "execution_count": null,
   "metadata": {},
   "outputs": [],
   "source": [
    "df.to_crs(4326).geometry.bounds.miny"
   ]
  },
  {
   "cell_type": "code",
   "execution_count": null,
   "metadata": {},
   "outputs": [],
   "source": [
    "df.to_crs(4326).time_start.max()"
   ]
  },
  {
   "cell_type": "code",
   "execution_count": null,
   "metadata": {},
   "outputs": [],
   "source": [
    "annual_summary(df, size_col='size_GB')"
   ]
  },
  {
   "cell_type": "code",
   "execution_count": null,
   "metadata": {},
   "outputs": [],
   "source": [
    "sf.plot_results_footprint_map(df)"
   ]
  },
  {
   "cell_type": "code",
   "execution_count": null,
   "metadata": {},
   "outputs": [],
   "source": [
    "sf.plot_timeseries_products(df, \n",
    "\ttitle=f'RADARSAT-1 (Level 1A) - Weekly Products' ,\n",
    "\tstack_col='dataset_id', \n",
    "\tdate_col='time_start',\n",
    "\tcount_freq='7D', \n",
    "    plot_freq='2M')"
   ]
  },
  {
   "cell_type": "code",
   "execution_count": null,
   "metadata": {},
   "outputs": [],
   "source": [
    "sf.plot_frequency(df[df['year']==2000],\n",
    "                  title = 'RADARSAT-1 (2008)',\n",
    "                  shape=(1000,1000),\n",
    "                  #force_max=30\n",
    "                )"
   ]
  },
  {
   "cell_type": "code",
   "execution_count": null,
   "metadata": {},
   "outputs": [],
   "source": [
    "sf.plot_multiple_frequency(\n",
    "    df,\n",
    "    title = f\"RADARSAT-1 Revisit Frequency by Year\",\n",
    "    group='year', \n",
    "    sort_group='year',\n",
    "    shape=(1000,1000),\n",
    "    cbar_label='Revisit Count',\n",
    "    n_cols=5,\n",
    ")\n",
    "# dates and coverage lines up with - https://asf.alaska.edu/data-sets/derived-data-sets/radarsat-antarctic-mapping-project-ramp/"
   ]
  },
  {
   "cell_type": "markdown",
   "metadata": {},
   "source": [
    "## RADARSAT-2"
   ]
  },
  {
   "cell_type": "code",
   "execution_count": null,
   "metadata": {},
   "outputs": [],
   "source": [
    "with open('metadata/Radarsat2RawProducts_-50N_products.json') as f:\n",
    "    data = json.load(f)\n",
    "df = pd.DataFrame.from_dict(data, orient='index')\n",
    "#df = sf.preprocess_cmr_df(df, crs=3031, lon_first=True, aoi_filter=True)\n",
    "df['geometry'] = df['wktGeometry'].apply(lambda x : shapely.wkt.loads(x))\n",
    "df = gpd.GeoDataFrame(df, geometry='geometry', crs=\"EPSG:3031\")"
   ]
  },
  {
   "cell_type": "code",
   "execution_count": null,
   "metadata": {},
   "outputs": [],
   "source": [
    "sf.plot_results_footprint_map(df)"
   ]
  },
  {
   "cell_type": "code",
   "execution_count": null,
   "metadata": {},
   "outputs": [],
   "source": [
    "df['wktGeometry'].iloc[0]"
   ]
  },
  {
   "cell_type": "code",
   "execution_count": null,
   "metadata": {},
   "outputs": [],
   "source": [
    "df.plot()"
   ]
  },
  {
   "cell_type": "code",
   "execution_count": null,
   "metadata": {},
   "outputs": [],
   "source": []
  }
 ],
 "metadata": {
  "kernelspec": {
   "display_name": "landsat",
   "language": "python",
   "name": "python3"
  },
  "language_info": {
   "codemirror_mode": {
    "name": "ipython",
    "version": 3
   },
   "file_extension": ".py",
   "mimetype": "text/x-python",
   "name": "python",
   "nbconvert_exporter": "python",
   "pygments_lexer": "ipython3",
   "version": "3.9.16"
  },
  "orig_nbformat": 4
 },
 "nbformat": 4,
 "nbformat_minor": 2
}
