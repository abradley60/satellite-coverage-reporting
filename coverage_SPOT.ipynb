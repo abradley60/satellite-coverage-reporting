{
 "cells": [
  {
   "cell_type": "code",
   "execution_count": null,
   "metadata": {},
   "outputs": [],
   "source": [
    "import geopandas as gpd\n",
    "import pandas as pd\n",
    "import cartopy\n",
    "import matplotlib.pyplot as plt\n",
    "import json\n",
    "import shapely\n",
    "\n",
    "import shared_functions as sf\n",
    "\n",
    "# settings\n",
    "pd.set_option('display.max_columns', 500)\n",
    "pd.set_option('display.width', 1000)\n",
    "pd.set_option('display.max_colwidth', 150)"
   ]
  },
  {
   "cell_type": "code",
   "execution_count": null,
   "metadata": {},
   "outputs": [],
   "source": [
    "with open('metadata/SPOT_L1A.json') as f:\n",
    "    data = json.load(f)\n",
    "df=pd.json_normalize([data[k] for k in data.keys()])\n",
    "df['time'] = pd.to_datetime(df['content.properties.DataDate'])\n",
    "df['month'] = df['time'].dt.month\n",
    "df['month_name'] = df['time'].dt.month_name()\n",
    "df['year'] = df['time'].dt.year\n",
    "df[\"geometry\"] = df[\"content.properties.PolygonWKT\"].apply(lambda x : shapely.wkt.loads(x))\n",
    "df = gpd.GeoDataFrame(df, geometry=\"geometry\", crs = \"EPSG:4326\")\n",
    "df = df.to_crs(3031)\n",
    "df = sf.filter_results_with_geojson(df, filename=\"shapefiles/50south_excl_argentina_falkand_mid.geojson\")"
   ]
  },
  {
   "cell_type": "code",
   "execution_count": null,
   "metadata": {},
   "outputs": [],
   "source": [
    "df.geometry.bounds.miny"
   ]
  },
  {
   "cell_type": "code",
   "execution_count": null,
   "metadata": {},
   "outputs": [],
   "source": [
    "title = 'Spot Satellite Coverage by Generation (1984-2015)'\n",
    "sf.plot_results_footprint_map(df, title=title, group='content.properties.PlatformName', legend_title='Satellite')"
   ]
  },
  {
   "cell_type": "markdown",
   "metadata": {},
   "source": [
    "## Summarise"
   ]
  },
  {
   "cell_type": "code",
   "execution_count": null,
   "metadata": {},
   "outputs": [],
   "source": [
    "sf.plot_timeseries_products(df, \n",
    "\ttitle=f'Spot (Level 1A) - Weekly Products' ,\n",
    "\tstack_col='content.properties.PlatformName', \n",
    "\tdate_col='time',\n",
    "\tcount_freq='7D', \n",
    "    plot_freq='3M')"
   ]
  },
  {
   "cell_type": "code",
   "execution_count": null,
   "metadata": {},
   "outputs": [],
   "source": [
    "#mean filesize\n",
    "df.groupby('content.properties.PlatformName')['content.properties.DataFileSize'].mean()/1E6"
   ]
  },
  {
   "cell_type": "markdown",
   "metadata": {},
   "source": [
    "### Product Count and Volume"
   ]
  },
  {
   "cell_type": "code",
   "execution_count": null,
   "metadata": {},
   "outputs": [],
   "source": [
    "list(df)\n",
    "count_size = (\n",
    "    (df.groupby(['year','content.properties.PlatformName',]).agg(\n",
    "    count = ('content.id','count'),\n",
    "    size = ('content.properties.DataFileSize', 'sum')))\n",
    "    .reset_index()\n",
    "    .pivot(index='year',columns='content.properties.PlatformName', values=['count','size'])\n",
    "    .fillna(0)\n",
    ")\n",
    "count_size.loc[\"Total\"] = count_size.sum()\n",
    "count_size['count'] = count_size['count'].astype(int)\n",
    "count_size['size'] = (count_size['size'].astype(int)/1E9).round(2)\n",
    "count_size"
   ]
  },
  {
   "cell_type": "code",
   "execution_count": null,
   "metadata": {},
   "outputs": [],
   "source": [
    "time = df.groupby(['content.properties.PlatformName',]).agg(\n",
    "    min_time = ('time','min'),\n",
    "    max_time = ('time', 'max')).reset_index()\n",
    "time['min_time'] = time['min_time'].dt.date\n",
    "time['max_time'] = time['max_time'].dt.date\n",
    "time"
   ]
  },
  {
   "cell_type": "code",
   "execution_count": null,
   "metadata": {},
   "outputs": [],
   "source": [
    "size = df.groupby(['content.properties.PlatformName',]).agg(\n",
    "    size = ('content.properties.DataFileSize','mean')).reset_index()\n",
    "\n",
    "size['size'] = (size['size'].astype(int)/1E6).round(0)\n",
    "size"
   ]
  },
  {
   "cell_type": "code",
   "execution_count": null,
   "metadata": {},
   "outputs": [],
   "source": [
    "sf.plot_frequency(df[df['year']==2008],\n",
    "                  title = 'All Spot Observations (2018)',\n",
    "                  cloud_col= 'content.properties.CloudCover',\n",
    "                  shape=(1000,1000),\n",
    "                  plot_cloud=True,\n",
    "                  #force_max=30\n",
    "                )"
   ]
  },
  {
   "cell_type": "markdown",
   "metadata": {},
   "source": [
    "## SPOT 5 by year"
   ]
  },
  {
   "cell_type": "code",
   "execution_count": null,
   "metadata": {},
   "outputs": [],
   "source": [
    "sf.plot_multiple_frequency(\n",
    "    df[df['content.properties.PlatformName'].isin(['SPOT5'])],\n",
    "      title = 'SPOT-5 revisit frequency by year',\n",
    "      group='year', \n",
    "      sort_group='year',\n",
    "      cloud_col= 'content.properties.CloudCover',\n",
    "      shape=(1500,1500),\n",
    "      plot_cloud=False,\n",
    "      n_cols=5,\n",
    "      force_max=50\n",
    "    )"
   ]
  },
  {
   "cell_type": "code",
   "execution_count": null,
   "metadata": {},
   "outputs": [],
   "source": [
    "sf.plot_multiple_frequency(\n",
    "    df[df['content.properties.PlatformName'].isin(['SPOT5'])],\n",
    "      title = 'SPOT-5 revisit frequency by year',\n",
    "      group='year', \n",
    "      sort_group='year',\n",
    "      cloud_col= 'content.properties.CloudCover',\n",
    "      shape=(1000,1000),\n",
    "      plot_cloud=True,\n",
    "      n_cols=4\n",
    "      #force_max=50\n",
    "    )"
   ]
  },
  {
   "cell_type": "markdown",
   "metadata": {},
   "source": [
    "## Plot All by Satellite"
   ]
  },
  {
   "cell_type": "code",
   "execution_count": null,
   "metadata": {},
   "outputs": [],
   "source": [
    "sf.plot_multiple_frequency(\n",
    "    df,\n",
    "    title = 'All Spot Observations by Generation',\n",
    "    group='content.properties.PlatformName', \n",
    "    sort_group='year',\n",
    "    cloud_col= 'content.properties.CloudCover',\n",
    "    shape=(1000,1000),\n",
    "    n_cols=3,\n",
    "    #plot_cloud=True,\n",
    "    #force_max=50\n",
    ")"
   ]
  }
 ],
 "metadata": {
  "kernelspec": {
   "display_name": "landsat",
   "language": "python",
   "name": "python3"
  },
  "language_info": {
   "codemirror_mode": {
    "name": "ipython",
    "version": 3
   },
   "file_extension": ".py",
   "mimetype": "text/x-python",
   "name": "python",
   "nbconvert_exporter": "python",
   "pygments_lexer": "ipython3",
   "version": "3.9.16"
  },
  "orig_nbformat": 4
 },
 "nbformat": 4,
 "nbformat_minor": 2
}
