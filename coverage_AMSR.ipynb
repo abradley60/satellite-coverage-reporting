{
 "cells": [
  {
   "cell_type": "markdown",
   "metadata": {},
   "source": [
    "# Advanced Microwave Scanning Radiometer (AMSR)"
   ]
  },
  {
   "cell_type": "code",
   "execution_count": null,
   "metadata": {},
   "outputs": [],
   "source": [
    "import geopandas as gpd\n",
    "import pandas as pd\n",
    "import cartopy\n",
    "import matplotlib.pyplot as plt\n",
    "import json\n",
    "import shapely\n",
    "import os\n",
    "\n",
    "import shared_functions as sf\n",
    "\n",
    "# settings\n",
    "pd.set_option('display.max_columns', 500)\n",
    "pd.set_option('display.width', 1000)\n",
    "pd.set_option('display.max_colwidth', 150)"
   ]
  },
  {
   "cell_type": "markdown",
   "metadata": {},
   "source": [
    "| Shortname | Description |\n",
    "|--|--|\n",
    "| AMSREL1A | AMSR-E/Aqua L1A Raw Observation Counts V003 |\n",
    "| AMSR-L1A | AMSR/ADEOS-II L1A Raw Observation Counts V003 |\n",
    "| GPM_1CGCOMW1AMSR2 | GPM AMSR-2 on GCOM-W1 Common Calibrated Brightness Temperature L1C 1.5 hours 10 km V07 (GPM_1CGCOMW1AMSR2) at GES DISC |\n",
    "| GPM_1CAQUAAMSRE | GPM AMSR-E on AQUA Common Calibrated Brightness Temperatures L1C 1.5 hours 10.5 km V07 (GPM_1CAQUAAMSRE) at GES DISC |"
   ]
  },
  {
   "cell_type": "markdown",
   "metadata": {},
   "source": [
    "## Functions"
   ]
  },
  {
   "cell_type": "code",
   "execution_count": null,
   "metadata": {},
   "outputs": [],
   "source": [
    "def annual_summary(df, size_col = 'size_GB'):\n",
    "    count_size = (\n",
    "        (df.groupby(['year']).agg(\n",
    "        count = ('id','count'),\n",
    "        size = (size_col, 'sum')))\n",
    "        .reset_index()\n",
    "        #.pivot(index='year', values=['count','size'])\n",
    "        .fillna(0)\n",
    "    )\n",
    "    count_size.loc[\"Total\"] = count_size.sum()\n",
    "    count_size['count'] = count_size['count'].astype(int)\n",
    "    count_size[size_col] = (count_size['size']).round(2)\n",
    "    return count_size"
   ]
  },
  {
   "cell_type": "markdown",
   "metadata": {},
   "source": [
    "## AMSR Raw Observation Counts (1A)"
   ]
  },
  {
   "cell_type": "code",
   "execution_count": null,
   "metadata": {},
   "outputs": [],
   "source": [
    "with open('metadata/AMSR-L1A_-50N_products.json') as f:\n",
    "    data = json.load(f)\n",
    "df = pd.DataFrame.from_dict(data, orient='index')\n",
    "df = sf.preprocess_cmr_df(df, crs=3031, lon_first=True, aoi_filter=True)\n",
    "print(df['time_start'].min(), df['time_start'].max())"
   ]
  },
  {
   "cell_type": "code",
   "execution_count": null,
   "metadata": {},
   "outputs": [],
   "source": [
    "sf.plot_results_footprint_map(df.iloc[1:10])"
   ]
  },
  {
   "cell_type": "code",
   "execution_count": null,
   "metadata": {},
   "outputs": [],
   "source": [
    "annual_summary(df)"
   ]
  },
  {
   "cell_type": "markdown",
   "metadata": {},
   "source": [
    "## ASMR-E Raw Observation Counts (1A)"
   ]
  },
  {
   "cell_type": "code",
   "execution_count": null,
   "metadata": {},
   "outputs": [],
   "source": [
    "with open('metadata/AMSREL1A_-50N_products.json') as f:\n",
    "    data = json.load(f)\n",
    "df = pd.DataFrame.from_dict(data, orient='index')\n",
    "df = sf.preprocess_cmr_df(df, crs=3031, lon_first=True, aoi_filter=True)\n",
    "print(df['time_start'].min(), df['time_start'].max())"
   ]
  },
  {
   "cell_type": "code",
   "execution_count": null,
   "metadata": {},
   "outputs": [],
   "source": [
    "sf.plot_results_footprint_map(df.iloc[1:10])"
   ]
  },
  {
   "cell_type": "code",
   "execution_count": null,
   "metadata": {},
   "outputs": [],
   "source": [
    "annual_summary(df, size_col='size_GB')"
   ]
  },
  {
   "cell_type": "markdown",
   "metadata": {},
   "source": [
    "## GPM AMSR-E on AQUA Common Calibrated Brightness Temperatures L1C 1.5 hours"
   ]
  },
  {
   "cell_type": "code",
   "execution_count": null,
   "metadata": {},
   "outputs": [],
   "source": [
    "with open('metadata/GPM_1CAQUAAMSRE_-50N_products.json') as f:\n",
    "    data = json.load(f)\n",
    "df = pd.DataFrame.from_dict(data, orient='index')\n",
    "df = sf.preprocess_cmr_df(df, crs=3031, lon_first=True)\n",
    "print(df['time_start'].min(), df['time_start'].max())"
   ]
  },
  {
   "cell_type": "code",
   "execution_count": null,
   "metadata": {},
   "outputs": [],
   "source": [
    "title = 'GPM AMSR-E on AQUA Common Calibrated Brightness Temperatures L1C 1.5 hours'\n",
    "sf.plot_results_footprint_map(df.iloc[0:10], title=title)\n",
    "df.iloc[50:54].to_crs(4326).geometry.values[0]"
   ]
  },
  {
   "cell_type": "code",
   "execution_count": null,
   "metadata": {},
   "outputs": [],
   "source": [
    "annual_summary(df, size_col='size_GB')"
   ]
  },
  {
   "cell_type": "markdown",
   "metadata": {},
   "source": [
    "## GPM AMSR-2 on GCOM-W1 Common Calibrated Brightness Temperature L1C"
   ]
  },
  {
   "cell_type": "code",
   "execution_count": null,
   "metadata": {},
   "outputs": [],
   "source": [
    "with open('metadata/GPM_1CGCOMW1AMSR2_-50N_products.json') as f:\n",
    "    data = json.load(f)\n",
    "df = pd.DataFrame.from_dict(data, orient='index')\n",
    "df = sf.preprocess_cmr_df(df, crs=3031, lon_first=True)\n",
    "print(df['time_start'].min(), df['time_start'].max())"
   ]
  },
  {
   "cell_type": "code",
   "execution_count": null,
   "metadata": {},
   "outputs": [],
   "source": [
    "title = 'GPM AMSR-2 on GCOM-W1 Common Calibrated Brightness Temperature L1C'\n",
    "sf.plot_results_footprint_map(df.iloc[0:10], title=title)"
   ]
  },
  {
   "cell_type": "code",
   "execution_count": null,
   "metadata": {},
   "outputs": [],
   "source": [
    "annual_summary(df, size_col='size_GB')"
   ]
  },
  {
   "cell_type": "markdown",
   "metadata": {},
   "source": [
    "## Level 2 data"
   ]
  },
  {
   "cell_type": "code",
   "execution_count": null,
   "metadata": {},
   "outputs": [],
   "source": [
    "files = [x for x in os.listdir('metadata') if 'AMSR' == x.split('_')[0]]\n",
    "files.remove('AMSR_L2_AE_Land_-50N_products.json')\n",
    "files\n"
   ]
  },
  {
   "cell_type": "code",
   "execution_count": null,
   "metadata": {},
   "outputs": [],
   "source": [
    "fname = files[0]\n",
    "with open(f'metadata/{files[0]}') as f:\n",
    "    data = json.load(f)\n",
    "df = pd.DataFrame.from_dict(data, orient='index')\n",
    "df = sf.preprocess_cmr_df(df, crs=3031, lon_first=True)\n",
    "print(df['time_start'].min(), df['time_start'].max())\n",
    "\n",
    "dfs = []\n",
    "\n",
    "for fname in files:\n",
    "    file_ = os.path.join('metadata',fname)\n",
    "    with open(file_) as f:\n",
    "        data = json.load(f)\n",
    "    df = pd.DataFrame.from_dict(data, orient='index')\n",
    "    df = sf.preprocess_cmr_df(df, crs=3031, lon_first=True)\n",
    "    df['product'] = fname\n",
    "    dfs.append(df)\n",
    "    df = None\n",
    "\n",
    "# same columns\n",
    "cols = []\n",
    "for d in dfs:\n",
    "    cols += list(d)\n",
    "cols = list(set(cols))\n",
    "for d in dfs:\n",
    "    for c in cols:\n",
    "        if c not in list(d):\n",
    "            d[c] = ''\n",
    "\n",
    "df = pd.concat(dfs)"
   ]
  },
  {
   "cell_type": "code",
   "execution_count": null,
   "metadata": {},
   "outputs": [],
   "source": [
    "title = fname\n",
    "sf.plot_results_footprint_map(df.iloc[0:30], title=title)"
   ]
  },
  {
   "cell_type": "code",
   "execution_count": null,
   "metadata": {},
   "outputs": [],
   "source": [
    "annual_summary(df, size_col='size_TB')"
   ]
  },
  {
   "cell_type": "code",
   "execution_count": null,
   "metadata": {},
   "outputs": [],
   "source": [
    "s = df[df['year']==2022].groupby('product').agg(\n",
    "        count = ('id','count'),\n",
    "        size_TB = ('size_TB', 'sum'),\n",
    "        size_MB = ('size_MB', 'sum'),\n",
    "        start = ('time_start','min'),\n",
    "        end = ('time_start','max')).reset_index().fillna(0)\n",
    "\n",
    "s['start'] = s['start'].apply(lambda x : x.date())\n",
    "s['end'] = s['end'].apply(lambda x : x.date())\n",
    "s['mean_size_MB'] = s['size_MB']/s['count']\n",
    "s"
   ]
  },
  {
   "cell_type": "code",
   "execution_count": null,
   "metadata": {},
   "outputs": [],
   "source": [
    "def annual_summary(df, size_col = 'size_GB'):\n",
    "    count_size = (\n",
    "        (df.groupby(['year']).agg(\n",
    "        count = ('id','count'),\n",
    "        size = (size_col, 'sum')))\n",
    "        .reset_index()\n",
    "        #.pivot(index='year', values=['count','size'])\n",
    "        .fillna(0)\n",
    "    )\n",
    "    count_size.loc[\"Total\"] = count_size.sum()\n",
    "    count_size['count'] = count_size['count'].astype(int)\n",
    "    count_size[size_col] = (count_size['size']).round(2)\n",
    "    return count_size"
   ]
  },
  {
   "cell_type": "markdown",
   "metadata": {},
   "source": [
    "# Combined"
   ]
  },
  {
   "cell_type": "code",
   "execution_count": null,
   "metadata": {},
   "outputs": [],
   "source": [
    "files = {\n",
    "    'AMSR' : 'metadata/AMSR-L1A_-50N_products.json',\n",
    "    #'' :'metadata/AMSREL1A_-50N_products.json',\n",
    "    'AMSR-E' : 'metadata/GPM_1CAQUAAMSRE_-50N_products.json',\n",
    "    'AMSR-2' : 'metadata/GPM_1CGCOMW1AMSR2_-50N_products.json',\n",
    "}\n",
    "\n",
    "\n",
    "dfs = []\n",
    "\n",
    "for sat in files.keys():\n",
    "    print(sat)\n",
    "    file_ = files[sat]\n",
    "    with open(file_) as f:\n",
    "        data = json.load(f)\n",
    "    df = pd.DataFrame.from_dict(data, orient='index')\n",
    "    df = sf.preprocess_cmr_df(df, crs=3031, lon_first=True)\n",
    "    df['satellite'] = sat\n",
    "    dfs.append(df)\n",
    "\n",
    "# same columns\n",
    "cols = []\n",
    "for d in dfs:\n",
    "    cols += list(d)\n",
    "cols = list(set(cols))\n",
    "for d in dfs:\n",
    "    for c in cols:\n",
    "        if c not in list(d):\n",
    "            d[c] = ''\n",
    "\n",
    "df = pd.concat(dfs)"
   ]
  },
  {
   "cell_type": "code",
   "execution_count": null,
   "metadata": {},
   "outputs": [],
   "source": [
    "title = f'AMSR level 1 - Weekly Products' \n",
    "sf.plot_timeseries_products(df.reset_index(), title=title, stack_col='satellite', date_col='time_start',count_freq='7D', plot_freq='1M')"
   ]
  },
  {
   "cell_type": "code",
   "execution_count": null,
   "metadata": {},
   "outputs": [],
   "source": []
  }
 ],
 "metadata": {
  "kernelspec": {
   "display_name": "landsat",
   "language": "python",
   "name": "python3"
  },
  "language_info": {
   "codemirror_mode": {
    "name": "ipython",
    "version": 3
   },
   "file_extension": ".py",
   "mimetype": "text/x-python",
   "name": "python",
   "nbconvert_exporter": "python",
   "pygments_lexer": "ipython3",
   "version": "3.9.16"
  },
  "orig_nbformat": 4
 },
 "nbformat": 4,
 "nbformat_minor": 2
}
